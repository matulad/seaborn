{
 "cells": [
  {
   "cell_type": "code",
   "execution_count": null,
   "id": "2923956c-f141-4ecb-ab08-e819099f0fa9",
   "metadata": {
    "tags": [
     "hide"
    ]
   },
   "outputs": [],
   "source": [
    "import seaborn.objects as so\n",
    "from seaborn import load_dataset\n",
    "\n",
    "tips = load_dataset(\"tips\")"
   ]
  },
  {
   "attachments": {},
   "cell_type": "markdown",
   "id": "05468ecf-d2f5-46f0-ba43-ea13aba0ebd2",
   "metadata": {},
   "source": [
    "The mark draws an arbitrary line defined by `intercept` and `slope`:"
   ]
  },
  {
   "cell_type": "code",
   "execution_count": null,
   "id": "acd5788f-e62b-497c-a109-f0bc02b8cae9",
   "metadata": {},
   "outputs": [],
   "source": [
    "(\n",
    "    so.Plot(tips, \"total_bill\", \"tip\")\n",
    "    .add(so.Dot(pointsize=1, color=\"black\"))\n",
    "    .add(so.Axline(intercept=1, slope=.1))\n",
    ")\n"
   ]
  },
  {
   "attachments": {},
   "cell_type": "markdown",
   "id": "bd0bfed5",
   "metadata": {},
   "source": [
    "_Work in progress_: \n",
    "\n",
    "In the current early phase of development, this mark is __only able to get `intercept` and `slope` as a scalar values__. Later on, the mark will also be able to use properties to add multiple lines, one per group. "
   ]
  },
  {
   "cell_type": "markdown",
   "id": "07b98f05",
   "metadata": {},
   "source": []
  }
 ],
 "metadata": {
  "kernelspec": {
   "display_name": "venv",
   "language": "python",
   "name": "python3"
  },
  "language_info": {
   "codemirror_mode": {
    "name": "ipython",
    "version": 3
   },
   "file_extension": ".py",
   "mimetype": "text/x-python",
   "name": "python",
   "nbconvert_exporter": "python",
   "pygments_lexer": "ipython3",
   "version": "3.10.7"
  },
  "vscode": {
   "interpreter": {
    "hash": "fa4bd51564d97d3fad3855b4751b992d18c6ad893d5c2a2a1bf8310814a90636"
   }
  }
 },
 "nbformat": 4,
 "nbformat_minor": 5
}
