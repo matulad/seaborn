{
 "cells": [
  {
   "cell_type": "code",
   "execution_count": null,
   "id": "0d053943-66c9-410d-ad65-ce91f1c1ff48",
   "metadata": {
    "tags": [
     "hide"
    ]
   },
   "outputs": [],
   "source": [
    "import seaborn.objects as so\n",
    "from seaborn import load_dataset\n",
    "\n",
    "tips = load_dataset(\"tips\")"
   ]
  },
  {
   "attachments": {},
   "cell_type": "markdown",
   "id": "51b029af-b83b-4ae0-a6ff-f48bf9692518",
   "metadata": {},
   "source": [
    "The `so.Agg2d(func)` is just a shortcut for `so.AggCustom({\"x\": func, \"y\": func}))`:"
   ]
  },
  {
   "cell_type": "code",
   "execution_count": null,
   "id": "85d7c947",
   "metadata": {},
   "outputs": [],
   "source": [
    "(\n",
    "    so.Plot(tips, x=\"total_bill\", y=\"tip\")\n",
    "    .add(so.Dot(pointsize=1, color=\"black\"))\n",
    "    .add(so.Axhline(), so.Agg2d())\n",
    "    .add(so.Axvline(), so.Agg2d())\n",
    ")"
   ]
  }
 ],
 "metadata": {
  "kernelspec": {
   "display_name": "venv",
   "language": "python",
   "name": "python3"
  },
  "language_info": {
   "codemirror_mode": {
    "name": "ipython",
    "version": 3
   },
   "file_extension": ".py",
   "mimetype": "text/x-python",
   "name": "python",
   "nbconvert_exporter": "python",
   "pygments_lexer": "ipython3",
   "version": "3.10.7"
  },
  "vscode": {
   "interpreter": {
    "hash": "fa4bd51564d97d3fad3855b4751b992d18c6ad893d5c2a2a1bf8310814a90636"
   }
  }
 },
 "nbformat": 4,
 "nbformat_minor": 5
}
