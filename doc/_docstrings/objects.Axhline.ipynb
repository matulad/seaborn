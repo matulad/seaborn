{
 "cells": [
  {
   "cell_type": "code",
   "execution_count": null,
   "id": "2923956c-f141-4ecb-ab08-e819099f0fa9",
   "metadata": {
    "tags": [
     "hide"
    ]
   },
   "outputs": [],
   "source": [
    "import seaborn.objects as so\n",
    "from seaborn import load_dataset\n",
    "\n",
    "tips = load_dataset(\"tips\")"
   ]
  },
  {
   "attachments": {},
   "cell_type": "markdown",
   "id": "05468ecf-d2f5-46f0-ba43-ea13aba0ebd2",
   "metadata": {},
   "source": [
    "The mark draws a horizontal line:"
   ]
  },
  {
   "cell_type": "code",
   "execution_count": null,
   "id": "acd5788f-e62b-497c-a109-f0bc02b8cae9",
   "metadata": {},
   "outputs": [],
   "source": [
    "(\n",
    "    so.Plot(tips, x=\"total_bill\", y=\"tip\")\n",
    "    .add(so.Dot(pointsize=1, color=\"black\"))\n",
    "    .add(so.Axhline(y = 3.14))\n",
    ")"
   ]
  },
  {
   "attachments": {},
   "cell_type": "markdown",
   "id": "d1b0acd7",
   "metadata": {},
   "source": [
    "It's position is defined by the `y` property. Running the following command, we will conclude with a horizontal line per row in input dataset:"
   ]
  },
  {
   "cell_type": "code",
   "execution_count": null,
   "id": "e1bc2b22",
   "metadata": {},
   "outputs": [],
   "source": [
    "(\n",
    "    so.Plot(tips, x=\"total_bill\", y=\"tip\")\n",
    "    .add(so.Dot(pointsize=1, color=\"black\"))\n",
    "    .add(so.Axhline())\n",
    ")"
   ]
  },
  {
   "attachments": {},
   "cell_type": "markdown",
   "id": "e87a7b26",
   "metadata": {},
   "source": [
    "The most common usecase for `so.Axhline()` is to higlight some statistical property of the data, e.g. `mean(y)`:"
   ]
  },
  {
   "cell_type": "code",
   "execution_count": null,
   "id": "45f1f2b9",
   "metadata": {},
   "outputs": [],
   "source": [
    "(\n",
    "    so.Plot(tips, x=\"total_bill\", y=\"tip\")\n",
    "    .add(so.Dot(pointsize=1, color=\"black\"))\n",
    "    .add(so.Axhline(), so.Agg(func=\"mean\", group_by_orient=False))\n",
    ")"
   ]
  },
  {
   "attachments": {},
   "cell_type": "markdown",
   "id": "a9a50e05",
   "metadata": {},
   "source": [
    "__Note__: Do not forget to specify `group_by_orient` to `False`. Using the default `group_by_orient=True`, the orientation (`x` variable in this case) will be used to specify groups of grouping and the result would be quite different:"
   ]
  },
  {
   "cell_type": "code",
   "execution_count": null,
   "id": "87610c23",
   "metadata": {},
   "outputs": [],
   "source": [
    "(\n",
    "    so.Plot(tips, x=\"total_bill\", y=\"tip\")\n",
    "    .add(so.Dot(pointsize=1, color=\"black\"))\n",
    "    .add(so.Axhline(), so.Agg(func=\"mean\",group_by_orient=True))\n",
    ")"
   ]
  },
  {
   "attachments": {},
   "cell_type": "markdown",
   "id": "48c22460",
   "metadata": {},
   "source": [
    "The `so.Axhline()` inherits from `so.Path()`. Therefore, it's possible to define all the line properties we used there:"
   ]
  },
  {
   "cell_type": "code",
   "execution_count": null,
   "id": "9f4f9ac1",
   "metadata": {},
   "outputs": [],
   "source": [
    "(\n",
    "    so.Plot(tips, x=\"total_bill\", y=\"tip\")\n",
    "    .add(so.Dot(pointsize=1, color=\"black\"))\n",
    "    .add(so.Axhline(linewidth=1), so.Agg(func=\"mean\", group_by_orient=False), color=\"sex\", linestyle=\"smoker\")\n",
    ")"
   ]
  },
  {
   "attachments": {},
   "cell_type": "markdown",
   "id": "c09cc6a1-a86b-48b7-b276-e0e9125d279e",
   "metadata": {},
   "source": [
    "__Note__: When mapping variables to properties like `color` or `linestyle`, stat transforms are computed within each grouping."
   ]
  }
 ],
 "metadata": {
  "kernelspec": {
   "display_name": "venv",
   "language": "python",
   "name": "python3"
  },
  "language_info": {
   "codemirror_mode": {
    "name": "ipython",
    "version": 3
   },
   "file_extension": ".py",
   "mimetype": "text/x-python",
   "name": "python",
   "nbconvert_exporter": "python",
   "pygments_lexer": "ipython3",
   "version": "3.10.7"
  },
  "vscode": {
   "interpreter": {
    "hash": "fa4bd51564d97d3fad3855b4751b992d18c6ad893d5c2a2a1bf8310814a90636"
   }
  }
 },
 "nbformat": 4,
 "nbformat_minor": 5
}
