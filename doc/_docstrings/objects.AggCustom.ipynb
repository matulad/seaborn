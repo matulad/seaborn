{
 "cells": [
  {
   "cell_type": "code",
   "execution_count": null,
   "id": "0d053943-66c9-410d-ad65-ce91f1c1ff48",
   "metadata": {
    "tags": [
     "hide"
    ]
   },
   "outputs": [],
   "source": [
    "import seaborn.objects as so\n",
    "from seaborn import load_dataset\n",
    "\n",
    "diamonds = load_dataset(\"diamonds\")\n",
    "tips = load_dataset(\"tips\")"
   ]
  },
  {
   "attachments": {},
   "cell_type": "markdown",
   "id": "51b029af-b83b-4ae0-a6ff-f48bf9692518",
   "metadata": {},
   "source": [
    "The `so.AggCustom()` is a generalization of the `so.Agg()`. Its main purpose is to enable aggregations to __any aesthetic__, not only to coordinates property other than _orient_. The default behavior is pretty much the same as of `so.Agg()` __except__ parameter `group_by_orient` defaults to `False`. To get the original behaviour we will"
   ]
  },
  {
   "cell_type": "code",
   "execution_count": null,
   "id": "28451b4e-9f4e-4604-b2b9-6138c4f51436",
   "metadata": {},
   "outputs": [],
   "source": [
    "p = so.Plot(diamonds, \"clarity\", \"carat\")\n",
    "p.add(so.Bar(), so.AggCustom(group_by_orient=True))"
   ]
  },
  {
   "attachments": {},
   "cell_type": "markdown",
   "id": "f1351934",
   "metadata": {},
   "source": [
    "We can provide aggregation function the same way - either by name of a pandas method or by aggregation function itself:"
   ]
  },
  {
   "cell_type": "code",
   "execution_count": null,
   "id": "de9857bf",
   "metadata": {},
   "outputs": [],
   "source": [
    "p = so.Plot(diamonds, \"clarity\", \"carat\")\n",
    "p = p.add(so.Bar(), so.AggCustom(\"mean\", group_by_orient=True))\n",
    "p.add(so.Dot(color=\"red\"), so.AggCustom(lambda x: x.mean(), group_by_orient=True))"
   ]
  },
  {
   "attachments": {},
   "cell_type": "markdown",
   "id": "53859a3b-051c-423d-97ef-b03f647268b7",
   "metadata": {},
   "source": [
    "For more details, see the `so.Agg()`.\n",
    "\n",
    "Above that, `so.AggCustom` is capable to overtake a named dict of aggregation functions. The name of the function __must correspond__ with some aesthetic in use."
   ]
  },
  {
   "cell_type": "code",
   "execution_count": null,
   "id": "5beaac3a-b9f7-4acc-81c7-480599e3675e",
   "metadata": {},
   "outputs": [],
   "source": [
    "(\n",
    "    so.Plot(tips, x=\"total_bill\", y=\"tip\")\n",
    "    .add(so.Dot(pointsize=1, color=\"black\"))\n",
    "    .add(so.Axhline(), so.AggCustom({\"y\": \"mean\"}))\n",
    "    .add(so.Axvline(), so.AggCustom({\"x\": lambda tmp: tmp.mean()}))\n",
    ")"
   ]
  },
  {
   "attachments": {},
   "cell_type": "markdown",
   "id": "fa24657b",
   "metadata": {},
   "source": [
    "It can handle multiple aesthetics at a time, too:"
   ]
  },
  {
   "cell_type": "code",
   "execution_count": null,
   "id": "55c1a090",
   "metadata": {},
   "outputs": [],
   "source": [
    "tips[\"tip_slope\"] = tips[\"tip\"]/tips[\"total_bill\"]\n",
    "(\n",
    "    so.Plot(tips, x=\"total_bill\", y=\"tip\")\n",
    "    .add(so.Dot(pointsize=1, color=\"black\"))\n",
    "    .add(so.Axline(), so.AggCustom({\"intercept\": \"mean\", \"slope\": \"mean\"}), intercept=\"tip\", slope=\"tip_slope\")\n",
    ")"
   ]
  },
  {
   "cell_type": "raw",
   "id": "7545b2c7",
   "metadata": {},
   "source": [
    "It's also possible to pass a list of aggregation functions:"
   ]
  },
  {
   "cell_type": "code",
   "execution_count": null,
   "id": "97ba542b",
   "metadata": {},
   "outputs": [],
   "source": [
    "(\n",
    "    so.Plot(tips, x=\"total_bill\", y=\"tip\")\n",
    "    .add(so.Dot(pointsize=1, color=\"black\"))\n",
    "    .add(so.Axhline(), so.AggCustom({\"y\": [\"min\", \"mean\", \"max\"]}))\n",
    ")"
   ]
  }
 ],
 "metadata": {
  "kernelspec": {
   "display_name": "venv",
   "language": "python",
   "name": "python3"
  },
  "language_info": {
   "codemirror_mode": {
    "name": "ipython",
    "version": 3
   },
   "file_extension": ".py",
   "mimetype": "text/x-python",
   "name": "python",
   "nbconvert_exporter": "python",
   "pygments_lexer": "ipython3",
   "version": "3.10.7"
  },
  "vscode": {
   "interpreter": {
    "hash": "fa4bd51564d97d3fad3855b4751b992d18c6ad893d5c2a2a1bf8310814a90636"
   }
  }
 },
 "nbformat": 4,
 "nbformat_minor": 5
}
